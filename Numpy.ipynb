{
 "cells": [
  {
   "cell_type": "code",
   "execution_count": 1,
   "metadata": {},
   "outputs": [],
   "source": [
    "import numpy as np"
   ]
  },
  {
   "cell_type": "code",
   "execution_count": 2,
   "metadata": {},
   "outputs": [
    {
     "name": "stdout",
     "output_type": "stream",
     "text": [
      "[0 0 0 0 0 0 0 0 0 0]\n",
      "[[1. 1. 1. 1. 1.]\n",
      " [1. 1. 1. 1. 1.]\n",
      " [1. 1. 1. 1. 1.]]\n",
      "[[3.14 3.14 3.14 3.14 3.14]\n",
      " [3.14 3.14 3.14 3.14 3.14]\n",
      " [3.14 3.14 3.14 3.14 3.14]]\n",
      "[ 0  2  4  6  8 10 12 14 16 18]\n",
      "[0.   0.25 0.5  0.75 1.  ]\n",
      "[[0.16745492 0.24530073 0.94807613]\n",
      " [0.23467699 0.41017786 0.82179256]\n",
      " [0.50232225 0.86474282 0.73734412]]\n",
      "[[ 1.05155573 -0.17882506  0.37449319]\n",
      " [ 0.39646182  1.35171357  3.0695854 ]\n",
      " [-1.0349453  -0.07055672  0.12590681]]\n",
      "[[9 0 5]\n",
      " [0 5 2]\n",
      " [3 0 7]]\n",
      "[[1. 0. 0.]\n",
      " [0. 1. 0.]\n",
      " [0. 0. 1.]]\n",
      "[1. 1. 1.]\n"
     ]
    }
   ],
   "source": [
    "print(np.zeros(10, dtype=int))\n",
    "print(np.ones((3, 5), dtype=float))\n",
    "print(np.full((3, 5), 3.14))\n",
    "print(np.arange(0, 20, 2))\n",
    "print(np.linspace(0, 1, 5))\n",
    "print(np.random.random((3, 3)))\n",
    "print(np.random.normal(0, 1, (3, 3)))\n",
    "print(np.random.randint(0, 10, (3, 3)))\n",
    "print(np.eye(3))\n",
    "print(np.empty(3))"
   ]
  },
  {
   "cell_type": "markdown",
   "metadata": {},
   "source": [
    "## ブロードキャスト"
   ]
  },
  {
   "cell_type": "code",
   "execution_count": 3,
   "metadata": {},
   "outputs": [
    {
     "data": {
      "text/plain": [
       "array([5, 6, 7])"
      ]
     },
     "execution_count": 3,
     "metadata": {},
     "output_type": "execute_result"
    }
   ],
   "source": [
    "a = np.array([0,1,2])\n",
    "b = np.array([5,5,5])\n",
    "a + b\n"
   ]
  },
  {
   "cell_type": "code",
   "execution_count": 4,
   "metadata": {},
   "outputs": [
    {
     "data": {
      "text/plain": [
       "array([5, 6, 7])"
      ]
     },
     "execution_count": 4,
     "metadata": {},
     "output_type": "execute_result"
    }
   ],
   "source": [
    "a + 5"
   ]
  },
  {
   "cell_type": "code",
   "execution_count": 5,
   "metadata": {},
   "outputs": [
    {
     "data": {
      "text/plain": [
       "array([[1., 2., 3.],\n",
       "       [1., 2., 3.],\n",
       "       [1., 2., 3.]])"
      ]
     },
     "execution_count": 5,
     "metadata": {},
     "output_type": "execute_result"
    }
   ],
   "source": [
    "M = np.ones((3, 3))\n",
    "M + a\n"
   ]
  },
  {
   "cell_type": "code",
   "execution_count": 6,
   "metadata": {},
   "outputs": [
    {
     "name": "stdout",
     "output_type": "stream",
     "text": [
      "[0 1 2]\n",
      "[[0]\n",
      " [1]\n",
      " [2]]\n"
     ]
    },
    {
     "data": {
      "text/plain": [
       "array([[0, 1, 2],\n",
       "       [1, 2, 3],\n",
       "       [2, 3, 4]])"
      ]
     },
     "execution_count": 6,
     "metadata": {},
     "output_type": "execute_result"
    }
   ],
   "source": [
    "a = np.arange(3)\n",
    "b = np.arange(3)[:, np.newaxis]\n",
    "\n",
    "print(a)\n",
    "print(b)\n",
    "\n",
    "a + b"
   ]
  },
  {
   "cell_type": "code",
   "execution_count": 7,
   "metadata": {},
   "outputs": [
    {
     "name": "stdout",
     "output_type": "stream",
     "text": [
      "(2, 3)\n",
      "(3,)\n"
     ]
    },
    {
     "data": {
      "text/plain": [
       "array([[1., 2., 3.],\n",
       "       [1., 2., 3.]])"
      ]
     },
     "execution_count": 7,
     "metadata": {},
     "output_type": "execute_result"
    }
   ],
   "source": [
    "M = np.ones((2, 3))\n",
    "a = np.arange(3)\n",
    "\n",
    "print(M.shape)\n",
    "print(a.shape)\n",
    "\n",
    "M + a"
   ]
  },
  {
   "cell_type": "code",
   "execution_count": 8,
   "metadata": {},
   "outputs": [
    {
     "name": "stdout",
     "output_type": "stream",
     "text": [
      "[[0]\n",
      " [1]\n",
      " [2]]\n",
      "(3, 1)\n",
      "(3,)\n"
     ]
    },
    {
     "data": {
      "text/plain": [
       "array([[0, 1, 2],\n",
       "       [1, 2, 3],\n",
       "       [2, 3, 4]])"
      ]
     },
     "execution_count": 8,
     "metadata": {},
     "output_type": "execute_result"
    }
   ],
   "source": [
    "a = np.arange(3)[:, np.newaxis]\n",
    "b = np.arange(3)\n",
    "\n",
    "print(a)\n",
    "print(a.shape)\n",
    "print(b.shape)\n",
    "\n",
    "a + b"
   ]
  },
  {
   "cell_type": "code",
   "execution_count": 9,
   "metadata": {},
   "outputs": [
    {
     "data": {
      "text/plain": [
       "array([1.11022302e-17, 4.44089210e-17, 8.88178420e-17])"
      ]
     },
     "execution_count": 9,
     "metadata": {},
     "output_type": "execute_result"
    }
   ],
   "source": [
    "X = np.random.random((10, 3))\n",
    "Xmean = X.mean(0)\n",
    "X_centered = X - Xmean\n",
    "X_centered.mean(0)"
   ]
  },
  {
   "cell_type": "code",
   "execution_count": 10,
   "metadata": {},
   "outputs": [],
   "source": [
    "x = np.linspace(0, 5, 50)\n",
    "y = np.linspace(0, 5, 50)[:, np.newaxis]\n",
    "\n",
    "z = np.sin(x) ** 10 + np.cos(10 + y * x) * np.cos(x)"
   ]
  },
  {
   "cell_type": "code",
   "execution_count": 11,
   "metadata": {},
   "outputs": [],
   "source": [
    "%matplotlib inline\n",
    "import matplotlib.pyplot as plt"
   ]
  },
  {
   "cell_type": "code",
   "execution_count": 12,
   "metadata": {},
   "outputs": [
    {
     "data": {
      "image/png": "[encoded data removed]",
      "text/plain": [
       "<Figure size 432x288 with 2 Axes>"
      ]
     },
     "metadata": {},
     "output_type": "display_data"
    }
   ],
   "source": [
    "plt.imshow(z, origin='lower', extent=[0, 5, 0, 5], cmap='viridis')\n",
    "plt.colorbar();"
   ]
  },
  {
   "cell_type": "markdown",
   "metadata": {},
   "source": [
    "## 比較、マスク、ブール論理"
   ]
  },
  {
   "cell_type": "code",
   "execution_count": 13,
   "metadata": {},
   "outputs": [],
   "source": [
    "x = np.array([1,2,3,4])"
   ]
  },
  {
   "cell_type": "code",
   "execution_count": 14,
   "metadata": {},
   "outputs": [
    {
     "name": "stdout",
     "output_type": "stream",
     "text": [
      "[ True  True False False]\n",
      "[False False False  True]\n",
      "[ True  True  True False]\n",
      "[False False  True  True]\n",
      "[ True  True False  True]\n",
      "[False False  True False]\n",
      "[False  True False False]\n"
     ]
    }
   ],
   "source": [
    "print(x < 3)\n",
    "print(x > 3)\n",
    "print(x <= 3)\n",
    "print(x >= 3)\n",
    "print(x != 3)\n",
    "print(x == 3)\n",
    "print((2 * x) == (x ** 2))"
   ]
  },
  {
   "cell_type": "code",
   "execution_count": 15,
   "metadata": {},
   "outputs": [
    {
     "data": {
      "text/plain": [
       "2"
      ]
     },
     "execution_count": 15,
     "metadata": {},
     "output_type": "execute_result"
    }
   ],
   "source": [
    "np.count_nonzero(x < 3)"
   ]
  },
  {
   "cell_type": "markdown",
   "metadata": {},
   "source": [
    "### マスクとしてのブール値配列"
   ]
  },
  {
   "cell_type": "code",
   "execution_count": 16,
   "metadata": {},
   "outputs": [
    {
     "data": {
      "text/plain": [
       "array([1, 2])"
      ]
     },
     "execution_count": 16,
     "metadata": {},
     "output_type": "execute_result"
    }
   ],
   "source": [
    "x[x < 3]"
   ]
  },
  {
   "cell_type": "markdown",
   "metadata": {},
   "source": [
    "## ファンシーインデクス"
   ]
  },
  {
   "cell_type": "code",
   "execution_count": 17,
   "metadata": {},
   "outputs": [
    {
     "name": "stdout",
     "output_type": "stream",
     "text": [
      "[51 92 14 71 60 20 82 86 74 74]\n"
     ]
    }
   ],
   "source": [
    "rand = np.random.RandomState(42)\n",
    "x = rand.randint(100, size=10)\n",
    "print(x)"
   ]
  },
  {
   "cell_type": "code",
   "execution_count": 18,
   "metadata": {},
   "outputs": [
    {
     "data": {
      "text/plain": [
       "array([[71, 86],\n",
       "       [60, 20]])"
      ]
     },
     "execution_count": 18,
     "metadata": {},
     "output_type": "execute_result"
    }
   ],
   "source": [
    "ind = np.array([[3,7],[4,5]])\n",
    "x[ind]"
   ]
  },
  {
   "cell_type": "code",
   "execution_count": 19,
   "metadata": {},
   "outputs": [],
   "source": [
    "### 例: K-means"
   ]
  },
  {
   "cell_type": "code",
   "execution_count": 21,
   "metadata": {},
   "outputs": [],
   "source": [
    "%matplotlib inline\n",
    "import matplotlib.pyplot as plt\n",
    "import seaborn; seaborn.set()"
   ]
  },
  {
   "cell_type": "code",
   "execution_count": 23,
   "metadata": {},
   "outputs": [],
   "source": [
    "X = rand.rand(10, 2)"
   ]
  },
  {
   "cell_type": "code",
   "execution_count": 24,
   "metadata": {},
   "outputs": [
    {
     "data": {
      "text/plain": [
       "<matplotlib.collections.PathCollection at 0x7f00e0f0c518>"
      ]
     },
     "execution_count": 24,
     "metadata": {},
     "output_type": "execute_result"
    },
    {
     "data": {
      "image/png": "[encoded data removed]",
      "text/plain": [
       "<Figure size 432x288 with 1 Axes>"
      ]
     },
     "metadata": {},
     "output_type": "display_data"
    }
   ],
   "source": [
    "plt.scatter(X[:, 0], X[:, 1], s=100)"
   ]
  },
  {
   "cell_type": "code",
   "execution_count": 28,
   "metadata": {},
   "outputs": [
    {
     "data": {
      "text/plain": [
       "array([[0.51423444, 0.59241457],\n",
       "       [0.04645041, 0.60754485],\n",
       "       [0.17052412, 0.06505159],\n",
       "       [0.94888554, 0.96563203],\n",
       "       [0.80839735, 0.30461377],\n",
       "       [0.09767211, 0.68423303],\n",
       "       [0.44015249, 0.12203823],\n",
       "       [0.49517691, 0.03438852],\n",
       "       [0.9093204 , 0.25877998],\n",
       "       [0.66252228, 0.31171108]])"
      ]
     },
     "execution_count": 28,
     "metadata": {},
     "output_type": "execute_result"
    }
   ],
   "source": [
    "X"
   ]
  },
  {
   "cell_type": "code",
   "execution_count": 26,
   "metadata": {},
   "outputs": [
    {
     "data": {
      "text/plain": [
       "array([[[0.51423444, 0.59241457]],\n",
       "\n",
       "       [[0.04645041, 0.60754485]],\n",
       "\n",
       "       [[0.17052412, 0.06505159]],\n",
       "\n",
       "       [[0.94888554, 0.96563203]],\n",
       "\n",
       "       [[0.80839735, 0.30461377]],\n",
       "\n",
       "       [[0.09767211, 0.68423303]],\n",
       "\n",
       "       [[0.44015249, 0.12203823]],\n",
       "\n",
       "       [[0.49517691, 0.03438852]],\n",
       "\n",
       "       [[0.9093204 , 0.25877998]],\n",
       "\n",
       "       [[0.66252228, 0.31171108]]])"
      ]
     },
     "execution_count": 26,
     "metadata": {},
     "output_type": "execute_result"
    }
   ],
   "source": [
    "X[:, np.newaxis, :]"
   ]
  },
  {
   "cell_type": "code",
   "execution_count": 27,
   "metadata": {},
   "outputs": [
    {
     "data": {
      "text/plain": [
       "array([[[0.51423444, 0.59241457],\n",
       "        [0.04645041, 0.60754485],\n",
       "        [0.17052412, 0.06505159],\n",
       "        [0.94888554, 0.96563203],\n",
       "        [0.80839735, 0.30461377],\n",
       "        [0.09767211, 0.68423303],\n",
       "        [0.44015249, 0.12203823],\n",
       "        [0.49517691, 0.03438852],\n",
       "        [0.9093204 , 0.25877998],\n",
       "        [0.66252228, 0.31171108]]])"
      ]
     },
     "execution_count": 27,
     "metadata": {},
     "output_type": "execute_result"
    }
   ],
   "source": [
    "X[np.newaxis, :, :]"
   ]
  },
  {
   "cell_type": "code",
   "execution_count": 30,
   "metadata": {},
   "outputs": [
    {
     "data": {
      "text/plain": [
       "array([[[ 0.        ,  0.        ],\n",
       "        [ 0.46778403, -0.01513028],\n",
       "        [ 0.34371031,  0.52736298],\n",
       "        [-0.4346511 , -0.37321746],\n",
       "        [-0.29416291,  0.2878008 ],\n",
       "        [ 0.41656232, -0.09181846],\n",
       "        [ 0.07408194,  0.47037633],\n",
       "        [ 0.01905753,  0.55802605],\n",
       "        [-0.39508596,  0.33363459],\n",
       "        [-0.14828785,  0.28070349]],\n",
       "\n",
       "       [[-0.46778403,  0.01513028],\n",
       "        [ 0.        ,  0.        ],\n",
       "        [-0.12407371,  0.54249326],\n",
       "        [-0.90243512, -0.35808718],\n",
       "        [-0.76194694,  0.30293108],\n",
       "        [-0.0512217 , -0.07668817],\n",
       "        [-0.39370208,  0.48550662],\n",
       "        [-0.4487265 ,  0.57315633],\n",
       "        [-0.86286999,  0.34876487],\n",
       "        [-0.61607187,  0.29583378]],\n",
       "\n",
       "       [[-0.34371031, -0.52736298],\n",
       "        [ 0.12407371, -0.54249326],\n",
       "        [ 0.        ,  0.        ],\n",
       "        [-0.77836141, -0.90058044],\n",
       "        [-0.63787322, -0.23956218],\n",
       "        [ 0.07285201, -0.61918143],\n",
       "        [-0.26962837, -0.05698664],\n",
       "        [-0.32465279,  0.03066307],\n",
       "        [-0.73879628, -0.19372839],\n",
       "        [-0.49199816, -0.24665948]],\n",
       "\n",
       "       [[ 0.4346511 ,  0.37321746],\n",
       "        [ 0.90243512,  0.35808718],\n",
       "        [ 0.77836141,  0.90058044],\n",
       "        [ 0.        ,  0.        ],\n",
       "        [ 0.14048819,  0.66101826],\n",
       "        [ 0.85121342,  0.28139901],\n",
       "        [ 0.50873304,  0.8435938 ],\n",
       "        [ 0.45370863,  0.93124351],\n",
       "        [ 0.03956514,  0.70685205],\n",
       "        [ 0.28636325,  0.65392096]],\n",
       "\n",
       "       [[ 0.29416291, -0.2878008 ],\n",
       "        [ 0.76194694, -0.30293108],\n",
       "        [ 0.63787322,  0.23956218],\n",
       "        [-0.14048819, -0.66101826],\n",
       "        [ 0.        ,  0.        ],\n",
       "        [ 0.71072523, -0.37961926],\n",
       "        [ 0.36824485,  0.18257553],\n",
       "        [ 0.31322044,  0.27022525],\n",
       "        [-0.10092305,  0.04583379],\n",
       "        [ 0.14587506, -0.00709731]],\n",
       "\n",
       "       [[-0.41656232,  0.09181846],\n",
       "        [ 0.0512217 ,  0.07668817],\n",
       "        [-0.07285201,  0.61918143],\n",
       "        [-0.85121342, -0.28139901],\n",
       "        [-0.71072523,  0.37961926],\n",
       "        [ 0.        ,  0.        ],\n",
       "        [-0.34248038,  0.56219479],\n",
       "        [-0.3975048 ,  0.64984451],\n",
       "        [-0.81164829,  0.42545304],\n",
       "        [-0.56485017,  0.37252195]],\n",
       "\n",
       "       [[-0.07408194, -0.47037633],\n",
       "        [ 0.39370208, -0.48550662],\n",
       "        [ 0.26962837,  0.05698664],\n",
       "        [-0.50873304, -0.8435938 ],\n",
       "        [-0.36824485, -0.18257553],\n",
       "        [ 0.34248038, -0.56219479],\n",
       "        [ 0.        ,  0.        ],\n",
       "        [-0.05502442,  0.08764971],\n",
       "        [-0.46916791, -0.13674175],\n",
       "        [-0.22236979, -0.18967284]],\n",
       "\n",
       "       [[-0.01905753, -0.55802605],\n",
       "        [ 0.4487265 , -0.57315633],\n",
       "        [ 0.32465279, -0.03066307],\n",
       "        [-0.45370863, -0.93124351],\n",
       "        [-0.31322044, -0.27022525],\n",
       "        [ 0.3975048 , -0.64984451],\n",
       "        [ 0.05502442, -0.08764971],\n",
       "        [ 0.        ,  0.        ],\n",
       "        [-0.41414349, -0.22439146],\n",
       "        [-0.16734537, -0.27732255]],\n",
       "\n",
       "       [[ 0.39508596, -0.33363459],\n",
       "        [ 0.86286999, -0.34876487],\n",
       "        [ 0.73879628,  0.19372839],\n",
       "        [-0.03956514, -0.70685205],\n",
       "        [ 0.10092305, -0.04583379],\n",
       "        [ 0.81164829, -0.42545304],\n",
       "        [ 0.46916791,  0.13674175],\n",
       "        [ 0.41414349,  0.22439146],\n",
       "        [ 0.        ,  0.        ],\n",
       "        [ 0.24679812, -0.05293109]],\n",
       "\n",
       "       [[ 0.14828785, -0.28070349],\n",
       "        [ 0.61607187, -0.29583378],\n",
       "        [ 0.49199816,  0.24665948],\n",
       "        [-0.28636325, -0.65392096],\n",
       "        [-0.14587506,  0.00709731],\n",
       "        [ 0.56485017, -0.37252195],\n",
       "        [ 0.22236979,  0.18967284],\n",
       "        [ 0.16734537,  0.27732255],\n",
       "        [-0.24679812,  0.05293109],\n",
       "        [ 0.        ,  0.        ]]])"
      ]
     },
     "execution_count": 30,
     "metadata": {},
     "output_type": "execute_result"
    }
   ],
   "source": [
    "diff = X[:, np.newaxis, :] - X[np.newaxis, :, :]\n",
    "diff"
   ]
  },
  {
   "cell_type": "code",
   "execution_count": 35,
   "metadata": {},
   "outputs": [
    {
     "data": {
      "text/plain": [
       "array([[0.        , 0.21905082, 0.39624849, 0.32821285, 0.16936112,\n",
       "        0.1819548 , 0.22674203, 0.31175626, 0.26740496, 0.10078374],\n",
       "       [0.21905082, 0.        , 0.30969322, 0.94261558, 0.67233037,\n",
       "        0.00850474, 0.390718  , 0.52986365, 0.86618155, 0.46706217],\n",
       "       [0.39624849, 0.30969322, 0.        , 1.41689162, 0.46427229,\n",
       "        0.38869306, 0.07594694, 0.10633966, 0.58335063, 0.30290309],\n",
       "       [0.32821285, 0.94261558, 1.41689162, 0.        , 0.45668208,\n",
       "        0.80374969, 0.97045981, 1.073066  , 0.50120522, 0.50961653],\n",
       "       [0.16936112, 0.67233037, 0.46427229, 0.45668208, 0.        ,\n",
       "        0.64924114, 0.1689381 , 0.17112873, 0.0122862 , 0.02132991],\n",
       "       [0.1819548 , 0.00850474, 0.38869306, 0.80374969, 0.64924114,\n",
       "        0.        , 0.43335579, 0.58030794, 0.83978324, 0.45782832],\n",
       "       [0.22674203, 0.390718  , 0.07594694, 0.97045981, 0.1689381 ,\n",
       "        0.43335579, 0.        , 0.01071016, 0.23881683, 0.08542411],\n",
       "       [0.31175626, 0.52986365, 0.10633966, 1.073066  , 0.17112873,\n",
       "        0.58030794, 0.01071016, 0.        , 0.22186636, 0.10491227],\n",
       "       [0.26740496, 0.86618155, 0.58335063, 0.50120522, 0.0122862 ,\n",
       "        0.83978324, 0.23881683, 0.22186636, 0.        , 0.06371101],\n",
       "       [0.10078374, 0.46706217, 0.30290309, 0.50961653, 0.02132991,\n",
       "        0.45782832, 0.08542411, 0.10491227, 0.06371101, 0.        ]])"
      ]
     },
     "execution_count": 35,
     "metadata": {},
     "output_type": "execute_result"
    }
   ],
   "source": [
    "dist_sq = np.sum((X[:, np.newaxis, :] - X[np.newaxis, :, :]) ** 2, axis=-1)\n",
    "dist_sq"
   ]
  },
  {
   "cell_type": "code",
   "execution_count": 34,
   "metadata": {},
   "outputs": [
    {
     "data": {
      "text/plain": [
       "array([0., 0., 0., 0., 0., 0., 0., 0., 0., 0.])"
      ]
     },
     "execution_count": 34,
     "metadata": {},
     "output_type": "execute_result"
    }
   ],
   "source": [
    "dist_sq.diagonal()"
   ]
  },
  {
   "cell_type": "code",
   "execution_count": 37,
   "metadata": {},
   "outputs": [
    {
     "data": {
      "text/plain": [
       "array([[0, 9, 4, 5, 1, 6, 8, 7, 3, 2],\n",
       "       [1, 5, 0, 2, 6, 9, 7, 4, 8, 3],\n",
       "       [2, 6, 7, 9, 1, 5, 0, 4, 8, 3],\n",
       "       [3, 0, 4, 8, 9, 5, 1, 6, 7, 2],\n",
       "       [4, 8, 9, 6, 0, 7, 3, 2, 5, 1],\n",
       "       [5, 1, 0, 2, 6, 9, 7, 4, 3, 8],\n",
       "       [6, 7, 2, 9, 4, 0, 8, 1, 5, 3],\n",
       "       [7, 6, 9, 2, 4, 8, 0, 1, 5, 3],\n",
       "       [8, 4, 9, 7, 6, 0, 3, 2, 5, 1],\n",
       "       [9, 4, 8, 6, 0, 7, 2, 5, 1, 3]])"
      ]
     },
     "execution_count": 37,
     "metadata": {},
     "output_type": "execute_result"
    }
   ],
   "source": [
    "nearlest = np.argsort(dist_sq, axis=1)\n",
    "nearlest"
   ]
  },
  {
   "cell_type": "code",
   "execution_count": 39,
   "metadata": {},
   "outputs": [],
   "source": [
    "K = 2\n",
    "nearlest_partition = np.argpartition(dist_sq, K+1, axis=1)"
   ]
  },
  {
   "cell_type": "code",
   "execution_count": 40,
   "metadata": {},
   "outputs": [
    {
     "data": {
      "image/png": "[encoded data removed]",
      "text/plain": [
       "<Figure size 432x288 with 1 Axes>"
      ]
     },
     "metadata": {},
     "output_type": "display_data"
    }
   ],
   "source": [
    "plt.scatter(X[:, 0], X[:, 1], s=100)\n",
    "\n",
    "for i in range(X.shape[0]):\n",
    "    for j in nearlest_partition[i, :K+1]:\n",
    "        plt.plot(*zip(X[j], X[i]), color='black')"
   ]
  },
  {
   "cell_type": "code",
   "execution_count": 50,
   "metadata": {},
   "outputs": [
    {
     "name": "stdout",
     "output_type": "stream",
     "text": [
      "(0.5142344384136116, 0.046450412719997725) (0.5924145688620425, 0.6075448519014384)\n"
     ]
    }
   ],
   "source": []
  }
 ],
 "metadata": {
  "kernelspec": {
   "display_name": "Python 3",
   "language": "python",
   "name": "python3"
  },
  "language_info": {
   "codemirror_mode": {
    "name": "ipython",
    "version": 3
   },
   "file_extension": ".py",
   "mimetype": "text/x-python",
   "name": "python",
   "nbconvert_exporter": "python",
   "pygments_lexer": "ipython3",
   "version": "3.6.5"
  }
 },
 "nbformat": 4,
 "nbformat_minor": 2
}
