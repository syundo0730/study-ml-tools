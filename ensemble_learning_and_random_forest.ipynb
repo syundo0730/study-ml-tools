{
 "cells": [
  {
   "cell_type": "code",
   "execution_count": 2,
   "metadata": {},
   "outputs": [],
   "source": [
    "import warnings\n",
    "warnings.filterwarnings('ignore')\n",
    "\n",
    "# To support both python 2 and python 3\n",
    "from __future__ import division, print_function, unicode_literals\n",
    "\n",
    "# Common imports\n",
    "import numpy as np\n",
    "import os\n",
    "\n",
    "# to make this notebook's output stable across runs\n",
    "np.random.seed(42)\n",
    "\n",
    "# To plot pretty figures\n",
    "%matplotlib inline\n",
    "import matplotlib\n",
    "import matplotlib.pyplot as plt\n",
    "plt.rcParams['axes.labelsize'] = 14\n",
    "plt.rcParams['xtick.labelsize'] = 12\n",
    "plt.rcParams['ytick.labelsize'] = 12\n",
    "\n",
    "# Where to save the figures\n",
    "PROJECT_ROOT_DIR = \".\"\n",
    "CHAPTER_ID = \"ensembles\"\n",
    "\n",
    "def image_path(fig_id):\n",
    "    return os.path.join(PROJECT_ROOT_DIR, \"images\", CHAPTER_ID, fig_id)\n",
    "\n",
    "def save_fig(fig_id, tight_layout=True):\n",
    "    print(\"Saving figure\", fig_id)\n",
    "    if tight_layout:\n",
    "        plt.tight_layout()\n",
    "    plt.savefig(image_path(fig_id) + \".png\", format='png', dpi=300)\n"
   ]
  },
  {
   "cell_type": "code",
   "execution_count": 4,
   "metadata": {},
   "outputs": [],
   "source": [
    "from sklearn.model_selection import train_test_split\n",
    "from sklearn.datasets import make_moons\n",
    "\n",
    "X, y = make_moons(n_samples=500, noise=0.30, random_state=42)\n",
    "X_train, X_test, y_train, y_test = train_test_split(X, y, random_state=42)"
   ]
  },
  {
   "cell_type": "code",
   "execution_count": 22,
   "metadata": {},
   "outputs": [
    {
     "data": {
      "text/plain": [
       "VotingClassifier(estimators=[('lr', LogisticRegression(C=1.0, class_weight=None, dual=False, fit_intercept=True,\n",
       "          intercept_scaling=1, max_iter=100, multi_class='ovr', n_jobs=1,\n",
       "          penalty='l2', random_state=42, solver='liblinear', tol=0.0001,\n",
       "          verbose=0, warm_start=False)), ('rf', RandomFor...f',\n",
       "  max_iter=-1, probability=False, random_state=42, shrinking=True,\n",
       "  tol=0.001, verbose=False))],\n",
       "         flatten_transform=None, n_jobs=1, voting='hard', weights=None)"
      ]
     },
     "execution_count": 22,
     "metadata": {},
     "output_type": "execute_result"
    }
   ],
   "source": [
    "from sklearn.ensemble import RandomForestClassifier\n",
    "from sklearn.ensemble import VotingClassifier\n",
    "from sklearn.linear_model import LogisticRegression\n",
    "from sklearn.svm import SVC\n",
    "\n",
    "log_clf = LogisticRegression(random_state=42)\n",
    "rnd_clf = RandomForestClassifier(random_state=42)\n",
    "svm_clf = SVC(random_state=42)\n",
    "\n",
    "voting_clf = VotingClassifier(\n",
    "    estimators=[('lr', log_clf), ('rf', rnd_clf), ('svc', svm_clf)],\n",
    "    voting='hard')\n",
    "\n",
    "voting_clf.fit(X_train, y_train)\n"
   ]
  },
  {
   "cell_type": "code",
   "execution_count": 29,
   "metadata": {},
   "outputs": [
    {
     "name": "stdout",
     "output_type": "stream",
     "text": [
      "LogisticRegression 0.864\n",
      "RandomForestClassifier 0.872\n",
      "SVC 0.888\n",
      "VotingClassifier 0.896\n"
     ]
    }
   ],
   "source": [
    "from sklearn.metrics import accuracy_score\n",
    "\n",
    "for clf in (log_clf, rnd_clf, svm_clf, voting_clf):\n",
    "    clf.fit(X_train, y_train)\n",
    "    y_pred = clf.predict(X_test)\n",
    "    print(clf.__class__.__name__, accuracy_score(y_test, y_pred))\n"
   ]
  },
  {
   "cell_type": "code",
   "execution_count": 30,
   "metadata": {},
   "outputs": [
    {
     "data": {
      "text/plain": [
       "VotingClassifier(estimators=[('lr', LogisticRegression(C=1.0, class_weight=None, dual=False, fit_intercept=True,\n",
       "          intercept_scaling=1, max_iter=100, multi_class='ovr', n_jobs=1,\n",
       "          penalty='l2', random_state=42, solver='liblinear', tol=0.0001,\n",
       "          verbose=0, warm_start=False)), ('rf', RandomFor...bf',\n",
       "  max_iter=-1, probability=True, random_state=42, shrinking=True,\n",
       "  tol=0.001, verbose=False))],\n",
       "         flatten_transform=None, n_jobs=1, voting='soft', weights=None)"
      ]
     },
     "execution_count": 30,
     "metadata": {},
     "output_type": "execute_result"
    }
   ],
   "source": [
    "log_clf = LogisticRegression(random_state=42)\n",
    "rnd_clf = RandomForestClassifier(random_state=42)\n",
    "svm_clf = SVC(probability=True, random_state=42)\n",
    "\n",
    "voting_clf = VotingClassifier(\n",
    "    estimators=[('lr', log_clf), ('rf', rnd_clf), ('svc', svm_clf)],\n",
    "    voting='soft')\n",
    "\n",
    "voting_clf.fit(X_train, y_train)"
   ]
  },
  {
   "cell_type": "code",
   "execution_count": 31,
   "metadata": {},
   "outputs": [
    {
     "name": "stdout",
     "output_type": "stream",
     "text": [
      "LogisticRegression 0.864\n",
      "RandomForestClassifier 0.872\n",
      "SVC 0.888\n",
      "VotingClassifier 0.912\n"
     ]
    }
   ],
   "source": [
    "from sklearn.metrics import accuracy_score\n",
    "\n",
    "for clf in (log_clf, rnd_clf, svm_clf, voting_clf):\n",
    "    clf.fit(X_train, y_train)\n",
    "    y_pred = clf.predict(X_test)\n",
    "    print(clf.__class__.__name__, accuracy_score(y_test, y_pred))"
   ]
  },
  {
   "cell_type": "code",
   "execution_count": 32,
   "metadata": {},
   "outputs": [],
   "source": [
    "from sklearn.ensemble import BaggingClassifier\n",
    "from sklearn.tree import DecisionTreeClassifier\n",
    "\n",
    "bag_clf = BaggingClassifier(\n",
    "    DecisionTreeClassifier(),\n",
    "    n_estimators=500,\n",
    "    max_samples=100,\n",
    "    bootstrap=True,\n",
    "    n_jobs=-1)\n",
    "\n",
    "bag_clf.fit(X_train, y_train)"
   ]
  },
  {
   "cell_type": "code",
   "execution_count": 34,
   "metadata": {},
   "outputs": [
    {
     "data": {
      "text/plain": [
       "0.904"
      ]
     },
     "execution_count": 34,
     "metadata": {},
     "output_type": "execute_result"
    }
   ],
   "source": [
    "y_pred = bag_clf.predict(X_test)\n",
    "accuracy_score(y_test, y_pred)"
   ]
  },
  {
   "cell_type": "code",
   "execution_count": 35,
   "metadata": {},
   "outputs": [
    {
     "name": "stdout",
     "output_type": "stream",
     "text": [
      "0.856\n"
     ]
    }
   ],
   "source": [
    "tree_clf = DecisionTreeClassifier(random_state=42)\n",
    "tree_clf.fit(X_train, y_train)\n",
    "y_pred_tree = tree_clf.predict(X_test)\n",
    "print(accuracy_score(y_test, y_pred_tree))"
   ]
  },
  {
   "cell_type": "code",
   "execution_count": 36,
   "metadata": {},
   "outputs": [],
   "source": [
    "from matplotlib.colors import ListedColormap\n",
    "\n",
    "def plot_decision_boundary(clf, X, y, axes=[-1.5, 2.5, -1, 1.5], alpha=0.5, contour=True):\n",
    "    x1s = np.linspace(axes[0], axes[1], 100)\n",
    "    x2s = np.linspace(axes[2], axes[3], 100)\n",
    "    x1, x2 = np.meshgrid(x1s, x2s)\n",
    "    X_new = np.c_[x1.ravel(), x2.ravel()]\n",
    "    y_pred = clf.predict(X_new).reshape(x1.shape)\n",
    "    custom_cmap = ListedColormap(['#fafab0','#9898ff','#a0faa0'])\n",
    "    plt.contourf(x1, x2, y_pred, alpha=0.3, cmap=custom_cmap)\n",
    "    if contour:\n",
    "        custom_cmap2 = ListedColormap(['#7d7d58','#4c4c7f','#507d50'])\n",
    "        plt.contour(x1, x2, y_pred, cmap=custom_cmap2, alpha=0.8)\n",
    "    plt.plot(X[:, 0][y==0], X[:, 1][y==0], \"yo\", alpha=alpha)\n",
    "    plt.plot(X[:, 0][y==1], X[:, 1][y==1], \"bs\", alpha=alpha)\n",
    "    plt.axis(axes)\n",
    "    plt.xlabel(r\"$x_1$\", fontsize=18)\n",
    "    plt.ylabel(r\"$x_2$\", fontsize=18, rotation=0)"
   ]
  },
  {
   "cell_type": "code",
   "execution_count": 38,
   "metadata": {},
   "outputs": [
    {
     "name": "stdout",
     "output_type": "stream",
     "text": [
      "Saving figure decision_tree_without_and_with_bagging_plot\n"
     ]
    },
    {
     "data": {
      "image/png": "[encoded data removed]",
      "text/plain": [
       "<Figure size 792x288 with 2 Axes>"
      ]
     },
     "metadata": {},
     "output_type": "display_data"
    }
   ],
   "source": [
    "plt.figure(figsize=(11,4))\n",
    "plt.subplot(121)\n",
    "plot_decision_boundary(tree_clf, X, y)\n",
    "plt.title(\"Decision Tree\", fontsize=14)\n",
    "plt.subplot(122)\n",
    "plot_decision_boundary(bag_clf, X, y)\n",
    "plt.title(\"Decision Trees with Bagging\", fontsize=14)\n",
    "save_fig(\"decision_tree_without_and_with_bagging_plot\")\n",
    "plt.show()"
   ]
  },
  {
   "cell_type": "code",
   "execution_count": 39,
   "metadata": {},
   "outputs": [
    {
     "data": {
      "text/plain": [
       "BaggingClassifier(base_estimator=DecisionTreeClassifier(class_weight=None, criterion='gini', max_depth=None,\n",
       "            max_features=None, max_leaf_nodes=None,\n",
       "            min_impurity_decrease=0.0, min_impurity_split=None,\n",
       "            min_samples_leaf=1, min_samples_split=2,\n",
       "            min_weight_fraction_leaf=0.0, presort=False, random_state=None,\n",
       "            splitter='best'),\n",
       "         bootstrap=True, bootstrap_features=False, max_features=1.0,\n",
       "         max_samples=100, n_estimators=500, n_jobs=-1, oob_score=True,\n",
       "         random_state=None, verbose=0, warm_start=False)"
      ]
     },
     "execution_count": 39,
     "metadata": {},
     "output_type": "execute_result"
    }
   ],
   "source": [
    "bag_clf = BaggingClassifier(\n",
    "    DecisionTreeClassifier(),\n",
    "    n_estimators=500,\n",
    "    max_samples=100,\n",
    "    bootstrap=True,\n",
    "    n_jobs=-1,\n",
    "    oob_score=True)\n",
    "\n",
    "bag_clf.fit(X_train, y_train)"
   ]
  },
  {
   "cell_type": "code",
   "execution_count": 41,
   "metadata": {},
   "outputs": [
    {
     "name": "stdout",
     "output_type": "stream",
     "text": [
      "0.92\n",
      "[[0.36666667 0.63333333]\n",
      " [0.3974026  0.6025974 ]\n",
      " [0.9973822  0.0026178 ]\n",
      " [0.01980198 0.98019802]\n",
      " [0.03208556 0.96791444]\n",
      " [0.10649351 0.89350649]\n",
      " [0.38341969 0.61658031]\n",
      " [0.08616188 0.91383812]\n",
      " [0.95822454 0.04177546]\n",
      " [0.84114583 0.15885417]\n",
      " [0.49874055 0.50125945]\n",
      " [0.04314721 0.95685279]\n",
      " [0.73214286 0.26785714]\n",
      " [0.83419689 0.16580311]\n",
      " [0.93264249 0.06735751]\n",
      " [0.09921671 0.90078329]\n",
      " [0.03234501 0.96765499]\n",
      " [0.89769821 0.10230179]\n",
      " [0.66840731 0.33159269]\n",
      " [0.95822454 0.04177546]\n",
      " [0.04312668 0.95687332]\n",
      " [0.22340426 0.77659574]\n",
      " [0.89230769 0.10769231]\n",
      " [0.97866667 0.02133333]\n",
      " [0.93850267 0.06149733]\n",
      " [0.         1.        ]\n",
      " [0.97193878 0.02806122]\n",
      " [1.         0.        ]\n",
      " [0.01612903 0.98387097]\n",
      " [0.71358025 0.28641975]\n",
      " [0.         1.        ]\n",
      " [0.99465241 0.00534759]\n",
      " [0.01044386 0.98955614]\n",
      " [0.06958763 0.93041237]\n",
      " [0.07901907 0.92098093]\n",
      " [0.96632124 0.03367876]\n",
      " [0.00810811 0.99189189]\n",
      " [0.55324675 0.44675325]\n",
      " [0.02307692 0.97692308]\n",
      " [0.99468085 0.00531915]\n",
      " [0.09138381 0.90861619]\n",
      " [0.38235294 0.61764706]\n",
      " [0.99742931 0.00257069]\n",
      " [0.98648649 0.01351351]\n",
      " [0.02295918 0.97704082]\n",
      " [1.         0.        ]\n",
      " [0.99733333 0.00266667]\n",
      " [0.04450262 0.95549738]\n",
      " [0.98412698 0.01587302]\n",
      " [0.03061224 0.96938776]\n",
      " [0.93877551 0.06122449]\n",
      " [0.82887701 0.17112299]\n",
      " [0.94502618 0.05497382]\n",
      " [0.79265092 0.20734908]\n",
      " [0.01928375 0.98071625]\n",
      " [0.1031746  0.8968254 ]\n",
      " [0.80661578 0.19338422]\n",
      " [0.0127551  0.9872449 ]\n",
      " [0.01463415 0.98536585]\n",
      " [0.06666667 0.93333333]\n",
      " [0.82160804 0.17839196]\n",
      " [0.63020833 0.36979167]\n",
      " [0.67       0.33      ]\n",
      " [0.984375   0.015625  ]\n",
      " [0.01295337 0.98704663]\n",
      " [0.82016349 0.17983651]\n",
      " [0.98263027 0.01736973]\n",
      " [0.98167539 0.01832461]\n",
      " [0.5984456  0.4015544 ]\n",
      " [0.98950131 0.01049869]\n",
      " [0.32275132 0.67724868]\n",
      " [0.31451613 0.68548387]\n",
      " [0.38227848 0.61772152]\n",
      " [0.63846154 0.36153846]\n",
      " [0.01319261 0.98680739]\n",
      " [0.32808399 0.67191601]\n",
      " [0.83905013 0.16094987]\n",
      " [1.         0.        ]\n",
      " [0.02544529 0.97455471]\n",
      " [0.93450882 0.06549118]\n",
      " [0.0025974  0.9974026 ]\n",
      " [0.23884514 0.76115486]\n",
      " [0.12151899 0.87848101]\n",
      " [0.43832021 0.56167979]\n",
      " [0.9925187  0.0074813 ]\n",
      " [0.04244032 0.95755968]\n",
      " [0.59620596 0.40379404]\n",
      " [0.05221932 0.94778068]\n",
      " [0.04123711 0.95876289]\n",
      " [0.         1.        ]\n",
      " [0.34908136 0.65091864]\n",
      " [0.99734043 0.00265957]\n",
      " [0.00791557 0.99208443]\n",
      " [0.03598972 0.96401028]\n",
      " [0.01685393 0.98314607]\n",
      " [0.80829016 0.19170984]\n",
      " [0.63888889 0.36111111]\n",
      " [0.0672043  0.9327957 ]\n",
      " [0.98941799 0.01058201]\n",
      " [0.35068493 0.64931507]\n",
      " [0.69451697 0.30548303]\n",
      " [0.00510204 0.99489796]\n",
      " [0.08602151 0.91397849]\n",
      " [0.47105263 0.52894737]\n",
      " [0.98461538 0.01538462]\n",
      " [0.05121294 0.94878706]\n",
      " [0.97534247 0.02465753]\n",
      " [0.45333333 0.54666667]\n",
      " [0.28457447 0.71542553]\n",
      " [0.98974359 0.01025641]\n",
      " [0.22677596 0.77322404]\n",
      " [0.86756757 0.13243243]\n",
      " [0.27415144 0.72584856]\n",
      " [0.75065617 0.24934383]\n",
      " [0.98746867 0.01253133]\n",
      " [0.99253731 0.00746269]\n",
      " [0.         1.        ]\n",
      " [0.         1.        ]\n",
      " [0.45363409 0.54636591]\n",
      " [0.98971722 0.01028278]\n",
      " [0.05670103 0.94329897]\n",
      " [0.99479167 0.00520833]\n",
      " [0.96212121 0.03787879]\n",
      " [0.9973262  0.0026738 ]\n",
      " [0.91957105 0.08042895]\n",
      " [0.96373057 0.03626943]\n",
      " [0.03617571 0.96382429]\n",
      " [0.90691489 0.09308511]\n",
      " [0.94559585 0.05440415]\n",
      " [0.0178117  0.9821883 ]\n",
      " [0.2160804  0.7839196 ]\n",
      " [0.85286104 0.14713896]\n",
      " [0.35449735 0.64550265]\n",
      " [0.92802057 0.07197943]\n",
      " [0.         1.        ]\n",
      " [0.04032258 0.95967742]\n",
      " [0.78645833 0.21354167]\n",
      " [0.73684211 0.26315789]\n",
      " [0.50526316 0.49473684]\n",
      " [0.83244681 0.16755319]\n",
      " [0.92443325 0.07556675]\n",
      " [0.11398964 0.88601036]\n",
      " [0.79187817 0.20812183]\n",
      " [0.03856041 0.96143959]\n",
      " [0.00753769 0.99246231]\n",
      " [0.10106383 0.89893617]\n",
      " [0.7591623  0.2408377 ]\n",
      " [0.96782842 0.03217158]\n",
      " [0.99725275 0.00274725]\n",
      " [0.03125    0.96875   ]\n",
      " [0.00263158 0.99736842]\n",
      " [0.07466667 0.92533333]\n",
      " [0.03916449 0.96083551]\n",
      " [0.99484536 0.00515464]\n",
      " [0.96833773 0.03166227]\n",
      " [0.8856383  0.1143617 ]\n",
      " [0.99483204 0.00516796]\n",
      " [1.         0.        ]\n",
      " [0.87046632 0.12953368]\n",
      " [0.01055409 0.98944591]\n",
      " [0.63227513 0.36772487]\n",
      " [0.31134565 0.68865435]\n",
      " [0.06788512 0.93211488]\n",
      " [0.01666667 0.98333333]\n",
      " [0.35751295 0.64248705]\n",
      " [0.98974359 0.01025641]\n",
      " [0.97179487 0.02820513]\n",
      " [0.         1.        ]\n",
      " [0.98921833 0.01078167]\n",
      " [0.06377551 0.93622449]\n",
      " [0.00522193 0.99477807]\n",
      " [0.9453125  0.0546875 ]\n",
      " [0.0188172  0.9811828 ]\n",
      " [0.0129199  0.9870801 ]\n",
      " [0.99734748 0.00265252]\n",
      " [0.03225806 0.96774194]\n",
      " [0.80851064 0.19148936]\n",
      " [0.91002571 0.08997429]\n",
      " [0.04509284 0.95490716]\n",
      " [0.95187166 0.04812834]\n",
      " [0.90785908 0.09214092]\n",
      " [0.96969697 0.03030303]\n",
      " [0.01546392 0.98453608]\n",
      " [0.02307692 0.97692308]\n",
      " [0.99485861 0.00514139]\n",
      " [0.21079692 0.78920308]\n",
      " [0.9947644  0.0052356 ]\n",
      " [0.1160221  0.8839779 ]\n",
      " [0.02506266 0.97493734]\n",
      " [0.98680739 0.01319261]\n",
      " [0.         1.        ]\n",
      " [0.16208791 0.83791209]\n",
      " [0.875      0.125     ]\n",
      " [0.88471178 0.11528822]\n",
      " [0.5984456  0.4015544 ]\n",
      " [0.67708333 0.32291667]\n",
      " [0.02272727 0.97727273]\n",
      " [0.2152231  0.7847769 ]\n",
      " [0.97727273 0.02272727]\n",
      " [0.89378238 0.10621762]\n",
      " [0.93478261 0.06521739]\n",
      " [0.98992443 0.01007557]\n",
      " [0.07349081 0.92650919]\n",
      " [0.02267003 0.97732997]\n",
      " [0.10263158 0.89736842]\n",
      " [0.46547315 0.53452685]\n",
      " [0.         1.        ]\n",
      " [0.02544529 0.97455471]\n",
      " [0.96401028 0.03598972]\n",
      " [0.08355795 0.91644205]\n",
      " [0.09383378 0.90616622]\n",
      " [0.90551181 0.09448819]\n",
      " [0.05459057 0.94540943]\n",
      " [0.35675676 0.64324324]\n",
      " [0.0074813  0.9925187 ]\n",
      " [0.9973822  0.0026178 ]\n",
      " [0.01818182 0.98181818]\n",
      " [0.02556818 0.97443182]\n",
      " [0.92821782 0.07178218]\n",
      " [0.86432161 0.13567839]\n",
      " [0.94587629 0.05412371]\n",
      " [0.01570681 0.98429319]\n",
      " [0.08268734 0.91731266]\n",
      " [0.94878706 0.05121294]\n",
      " [0.13136729 0.86863271]\n",
      " [0.01340483 0.98659517]\n",
      " [0.29076087 0.70923913]\n",
      " [0.98687664 0.01312336]\n",
      " [0.80052493 0.19947507]\n",
      " [0.09485095 0.90514905]\n",
      " [0.71801567 0.28198433]\n",
      " [0.95140665 0.04859335]\n",
      " [0.13486005 0.86513995]\n",
      " [0.17054264 0.82945736]\n",
      " [0.99511002 0.00488998]\n",
      " [0.         1.        ]\n",
      " [0.02067183 0.97932817]\n",
      " [0.01851852 0.98148148]\n",
      " [0.34805195 0.65194805]\n",
      " [0.85309278 0.14690722]\n",
      " [0.05509642 0.94490358]\n",
      " [0.98971722 0.01028278]\n",
      " [0.85051546 0.14948454]\n",
      " [0.00251889 0.99748111]\n",
      " [0.74535809 0.25464191]\n",
      " [0.9925     0.0075    ]\n",
      " [0.01846966 0.98153034]\n",
      " [0.99475066 0.00524934]\n",
      " [0.04709141 0.95290859]\n",
      " [0.0201005  0.9798995 ]\n",
      " [0.0874036  0.9125964 ]\n",
      " [0.22959184 0.77040816]\n",
      " [0.83905013 0.16094987]\n",
      " [0.07756233 0.92243767]\n",
      " [0.9943662  0.0056338 ]\n",
      " [0.64931507 0.35068493]\n",
      " [0.11594203 0.88405797]\n",
      " [0.65979381 0.34020619]\n",
      " [0.8046875  0.1953125 ]\n",
      " [0.01104972 0.98895028]\n",
      " [0.9871134  0.0128866 ]\n",
      " [0.01285347 0.98714653]\n",
      " [0.         1.        ]\n",
      " [0.74025974 0.25974026]\n",
      " [0.         1.        ]\n",
      " [0.992      0.008     ]\n",
      " [0.09549072 0.90450928]\n",
      " [0.76501305 0.23498695]\n",
      " [0.1233244  0.8766756 ]\n",
      " [0.98979592 0.01020408]\n",
      " [0.85900783 0.14099217]\n",
      " [0.00767263 0.99232737]\n",
      " [0.06905371 0.93094629]\n",
      " [0.15151515 0.84848485]\n",
      " [0.09898477 0.90101523]\n",
      " [0.         1.        ]\n",
      " [0.95918367 0.04081633]\n",
      " [0.82065217 0.17934783]\n",
      " [0.17150396 0.82849604]\n",
      " [0.90133333 0.09866667]\n",
      " [0.07065217 0.92934783]\n",
      " [0.63917526 0.36082474]\n",
      " [0.12466844 0.87533156]\n",
      " [0.94221106 0.05778894]\n",
      " [0.88126649 0.11873351]\n",
      " [0.00507614 0.99492386]\n",
      " [0.92838875 0.07161125]\n",
      " [0.90816327 0.09183673]\n",
      " [0.01052632 0.98947368]\n",
      " [0.06217617 0.93782383]\n",
      " [0.99189189 0.00810811]\n",
      " [0.02793296 0.97206704]\n",
      " [0.99746835 0.00253165]\n",
      " [0.06896552 0.93103448]\n",
      " [0.90862944 0.09137056]\n",
      " [1.         0.        ]\n",
      " [0.01876676 0.98123324]\n",
      " [0.04935065 0.95064935]\n",
      " [0.62311558 0.37688442]\n",
      " [0.         1.        ]\n",
      " [0.99740933 0.00259067]\n",
      " [0.64921466 0.35078534]\n",
      " [0.84097035 0.15902965]\n",
      " [0.9872449  0.0127551 ]\n",
      " [0.67989418 0.32010582]\n",
      " [0.45854922 0.54145078]\n",
      " [0.03174603 0.96825397]\n",
      " [0.81401617 0.18598383]\n",
      " [0.00514139 0.99485861]\n",
      " [0.9921671  0.0078329 ]\n",
      " [0.75271739 0.24728261]\n",
      " [0.9972973  0.0027027 ]\n",
      " [0.99746835 0.00253165]\n",
      " [0.81723238 0.18276762]\n",
      " [0.26923077 0.73076923]\n",
      " [0.15079365 0.84920635]\n",
      " [0.22820513 0.77179487]\n",
      " [0.         1.        ]\n",
      " [0.74807198 0.25192802]\n",
      " [0.88888889 0.11111111]\n",
      " [0.03645833 0.96354167]\n",
      " [0.99484536 0.00515464]\n",
      " [0.94382022 0.05617978]\n",
      " [0.99742931 0.00257069]\n",
      " [0.01587302 0.98412698]\n",
      " [0.05412371 0.94587629]\n",
      " [0.93472585 0.06527415]\n",
      " [0.90437158 0.09562842]\n",
      " [0.99226804 0.00773196]\n",
      " [0.25848564 0.74151436]\n",
      " [0.99204244 0.00795756]\n",
      " [0.11658031 0.88341969]\n",
      " [0.93175853 0.06824147]\n",
      " [0.04986877 0.95013123]\n",
      " [0.98701299 0.01298701]\n",
      " [0.98987342 0.01012658]\n",
      " [0.99462366 0.00537634]\n",
      " [0.         1.        ]\n",
      " [0.9171123  0.0828877 ]\n",
      " [0.02538071 0.97461929]\n",
      " [0.04432133 0.95567867]\n",
      " [0.0511509  0.9488491 ]\n",
      " [0.         1.        ]\n",
      " [0.9973822  0.0026178 ]\n",
      " [0.97455471 0.02544529]\n",
      " [0.         1.        ]\n",
      " [0.94652406 0.05347594]\n",
      " [0.08201058 0.91798942]\n",
      " [0.99202128 0.00797872]\n",
      " [0.1722365  0.8277635 ]\n",
      " [0.00515464 0.99484536]\n",
      " [0.06933333 0.93066667]\n",
      " [0.         1.        ]\n",
      " [0.79787234 0.20212766]\n",
      " [0.07512953 0.92487047]\n",
      " [0.11081794 0.88918206]\n",
      " [0.9975     0.0025    ]\n",
      " [0.94300518 0.05699482]\n",
      " [0.20899471 0.79100529]\n",
      " [0.93766938 0.06233062]\n",
      " [0.06393862 0.93606138]\n",
      " [0.09113924 0.90886076]\n",
      " [0.98963731 0.01036269]\n",
      " [0.92622951 0.07377049]\n",
      " [0.52319588 0.47680412]\n",
      " [0.88451444 0.11548556]\n",
      " [0.99737533 0.00262467]\n",
      " [0.03937008 0.96062992]\n",
      " [0.953125   0.046875  ]\n",
      " [0.04278075 0.95721925]\n",
      " [0.1253406  0.8746594 ]\n",
      " [0.9275     0.0725    ]\n",
      " [0.99726776 0.00273224]\n",
      " [0.08505155 0.91494845]\n",
      " [0.69354839 0.30645161]]\n"
     ]
    }
   ],
   "source": [
    "print(bag_clf.oob_score_)\n",
    "print(bag_clf.oob_decision_function_)\n"
   ]
  },
  {
   "cell_type": "code",
   "execution_count": 42,
   "metadata": {},
   "outputs": [
    {
     "data": {
      "text/plain": [
       "RandomForestClassifier(bootstrap=True, class_weight=None, criterion='gini',\n",
       "            max_depth=None, max_features='auto', max_leaf_nodes=16,\n",
       "            min_impurity_decrease=0.0, min_impurity_split=None,\n",
       "            min_samples_leaf=1, min_samples_split=2,\n",
       "            min_weight_fraction_leaf=0.0, n_estimators=500, n_jobs=-1,\n",
       "            oob_score=False, random_state=None, verbose=0,\n",
       "            warm_start=False)"
      ]
     },
     "execution_count": 42,
     "metadata": {},
     "output_type": "execute_result"
    }
   ],
   "source": [
    "from sklearn.ensemble import RandomForestClassifier\n",
    "\n",
    "rnd_clf = RandomForestClassifier(\n",
    "    n_estimators=500,\n",
    "    max_leaf_nodes=16,\n",
    "    n_jobs=-1)\n",
    "rnd_clf.fit(X_train, y_train)"
   ]
  },
  {
   "cell_type": "code",
   "execution_count": 43,
   "metadata": {},
   "outputs": [],
   "source": [
    "y_pred_rf = rnd_clf.predict(X_test)"
   ]
  },
  {
   "cell_type": "code",
   "execution_count": 44,
   "metadata": {},
   "outputs": [
    {
     "name": "stdout",
     "output_type": "stream",
     "text": [
      "sepal length (cm) 0.10243009980321216\n",
      "sepal width (cm) 0.02204993327963437\n",
      "petal length (cm) 0.45833718307731147\n",
      "petal width (cm) 0.41718278383984214\n"
     ]
    }
   ],
   "source": [
    "from sklearn.datasets import load_iris\n",
    "iris = load_iris()\n",
    "rnd_clf = RandomForestClassifier(n_estimators=500, n_jobs=-1)\n",
    "rnd_clf.fit(iris['data'], iris['target'])\n",
    "\n",
    "for name, score in zip(iris['feature_names'], rnd_clf.feature_importances_):\n",
    "    print(name, score)\n"
   ]
  },
  {
   "cell_type": "code",
   "execution_count": 45,
   "metadata": {},
   "outputs": [
    {
     "data": {
      "text/plain": [
       "AdaBoostClassifier(algorithm='SAMME.R',\n",
       "          base_estimator=DecisionTreeClassifier(class_weight=None, criterion='gini', max_depth=1,\n",
       "            max_features=None, max_leaf_nodes=None,\n",
       "            min_impurity_decrease=0.0, min_impurity_split=None,\n",
       "            min_samples_leaf=1, min_samples_split=2,\n",
       "            min_weight_fraction_leaf=0.0, presort=False, random_state=None,\n",
       "            splitter='best'),\n",
       "          learning_rate=0.5, n_estimators=200, random_state=None)"
      ]
     },
     "execution_count": 45,
     "metadata": {},
     "output_type": "execute_result"
    }
   ],
   "source": [
    "from sklearn.ensemble import AdaBoostClassifier\n",
    "\n",
    "ada_clf = AdaBoostClassifier(\n",
    "    DecisionTreeClassifier(max_depth=1),\n",
    "    n_estimators=200,\n",
    "    algorithm=\"SAMME.R\",\n",
    "    learning_rate=0.5)\n",
    "\n",
    "ada_clf.fit(X_train, y_train)\n"
   ]
  },
  {
   "cell_type": "code",
   "execution_count": 53,
   "metadata": {},
   "outputs": [],
   "source": [
    "np.random.seed(42)\n",
    "X = np.random.rand(100, 1) - 0.5\n",
    "y = 3*X[:, 0]**2 + 0.05 * np.random.randn(100)"
   ]
  },
  {
   "cell_type": "code",
   "execution_count": 54,
   "metadata": {},
   "outputs": [],
   "source": [
    "from sklearn.tree import DecisionTreeRegressor\n",
    "\n",
    "tree_reg1 = DecisionTreeRegressor(max_depth=2, random_state=42)\n",
    "tree_reg1.fit(X, y)\n",
    "\n",
    "y2 = y - tree_reg1.predict(X)\n",
    "tree_reg2 = DecisionTreeRegressor(max_depth=2, random_state=42)\n",
    "tree_reg2.fit(X, y2)\n",
    "\n",
    "y3= y2 - tree_reg2.predict(X)\n",
    "tree_reg3 = DecisionTreeRegressor(max_depth=2, random_state=42)\n",
    "tree_reg3.fit(X, y3)\n",
    "\n",
    "X_new = np.array([[0.8]])\n",
    "y_pred = sum(tree.predict(X_new) for tree in (tree_reg1, tree_reg2, tree_reg3))"
   ]
  },
  {
   "cell_type": "code",
   "execution_count": 55,
   "metadata": {},
   "outputs": [
    {
     "data": {
      "text/plain": [
       "GradientBoostingRegressor(alpha=0.9, criterion='friedman_mse', init=None,\n",
       "             learning_rate=1.0, loss='ls', max_depth=2, max_features=None,\n",
       "             max_leaf_nodes=None, min_impurity_decrease=0.0,\n",
       "             min_impurity_split=None, min_samples_leaf=1,\n",
       "             min_samples_split=2, min_weight_fraction_leaf=0.0,\n",
       "             n_estimators=3, presort='auto', random_state=None,\n",
       "             subsample=1.0, verbose=0, warm_start=False)"
      ]
     },
     "execution_count": 55,
     "metadata": {},
     "output_type": "execute_result"
    }
   ],
   "source": [
    "from sklearn.ensemble import GradientBoostingRegressor\n",
    "\n",
    "gbrt = GradientBoostingRegressor(\n",
    "    max_depth=2,\n",
    "    n_estimators=3,\n",
    "    learning_rate=1.0)\n",
    "\n",
    "gbrt.fit(X, y)"
   ]
  },
  {
   "cell_type": "code",
   "execution_count": 56,
   "metadata": {},
   "outputs": [
    {
     "data": {
      "text/plain": [
       "GradientBoostingRegressor(alpha=0.9, criterion='friedman_mse', init=None,\n",
       "             learning_rate=0.1, loss='ls', max_depth=2, max_features=None,\n",
       "             max_leaf_nodes=None, min_impurity_decrease=0.0,\n",
       "             min_impurity_split=None, min_samples_leaf=1,\n",
       "             min_samples_split=2, min_weight_fraction_leaf=0.0,\n",
       "             n_estimators=52, presort='auto', random_state=None,\n",
       "             subsample=1.0, verbose=0, warm_start=False)"
      ]
     },
     "execution_count": 56,
     "metadata": {},
     "output_type": "execute_result"
    }
   ],
   "source": [
    "import numpy as np\n",
    "from sklearn.model_selection import train_test_split\n",
    "from sklearn.metrics import mean_squared_error\n",
    "\n",
    "X_train, X_val, y_train, y_val = train_test_split(X, y)\n",
    "\n",
    "gbrt = GradientBoostingRegressor(\n",
    "    max_depth=2,\n",
    "    n_estimators=120)\n",
    "gbrt.fit(X_train, y_train)\n",
    "\n",
    "erros = [mean_squared_error(y_val, y_pred) for y_pred in gbrt.staged_predict(X_val)]\n",
    "bst_n_estimators = np.argmin(erros)\n",
    "\n",
    "gbrt_best = GradientBoostingRegressor(\n",
    "    max_depth=2,\n",
    "    n_estimators=bst_n_estimators)\n",
    "\n",
    "gbrt_best.fit(X_train, y_train)"
   ]
  },
  {
   "cell_type": "code",
   "execution_count": 57,
   "metadata": {},
   "outputs": [],
   "source": [
    "gbrt = GradientBoostingRegressor(\n",
    "    max_depth=2,\n",
    "    warm_start=True)\n",
    "\n",
    "min_val_error = float(\"inf\")\n",
    "error_going_up = 0\n",
    "for n_estimators in range(1, 120):\n",
    "    gbrt.n_estimators = n_estimators\n",
    "    gbrt.fit(X_train, y_train)\n",
    "    y_pred = gbrt.predict(X_val)\n",
    "    val_error = mean_squared_error(y_val, y_pred)\n",
    "    if val_error < min_val_error:\n",
    "        min_val_error = val_error\n",
    "        error_going_up = 0\n",
    "    else:\n",
    "        error_going_up += 1\n",
    "    \n",
    "    if error_going_up >= 5:\n",
    "        break # 早期打ち切り\n"
   ]
  }
 ],
 "metadata": {
  "kernelspec": {
   "display_name": "Python 3",
   "language": "python",
   "name": "python3"
  },
  "language_info": {
   "codemirror_mode": {
    "name": "ipython",
    "version": 3
   },
   "file_extension": ".py",
   "mimetype": "text/x-python",
   "name": "python",
   "nbconvert_exporter": "python",
   "pygments_lexer": "ipython3",
   "version": "3.6.5"
  }
 },
 "nbformat": 4,
 "nbformat_minor": 2
}
